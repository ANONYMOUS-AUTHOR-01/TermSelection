{
 "cells": [
  {
   "cell_type": "code",
   "execution_count": 1,
   "metadata": {
    "collapsed": true
   },
   "outputs": [],
   "source": [
    "from modules.utils import *\n",
    "import re\n",
    "try:\n",
    "    os.chdir('result')\n",
    "except Exception as e:\n",
    "    pass"
   ]
  },
  {
   "cell_type": "code",
   "execution_count": 2,
   "metadata": {
    "collapsed": true
   },
   "outputs": [],
   "source": [
    "def compile(path, tag):\n",
    "    with open(path, 'r') as f:\n",
    "        data = []\n",
    "        for line in f.readlines():\n",
    "            line = line.strip().replace('+','-')\n",
    "            fragments = list(filter(None,re.split(r'[=\\s]', line)))\n",
    "            data.append({\n",
    "                'refset' : fragments[1],\n",
    "                'seed_size' : eval(fragments[3]),\n",
    "                'ndcg' : eval(fragments[7]),\n",
    "                'auc' : eval(fragments[9]),\n",
    "                'kind' : tag\n",
    "            })\n",
    "        return data"
   ]
  },
  {
   "cell_type": "code",
   "execution_count": 3,
   "metadata": {
    "collapsed": true
   },
   "outputs": [],
   "source": [
    "def compile_ext(path, tag):\n",
    "    with open(path, 'r') as f:\n",
    "        data = []\n",
    "        for line in f.readlines():\n",
    "            line = line.strip().replace('+','-')\n",
    "            fragments = list(filter(None,re.split(r'[=\\s]', line)))\n",
    "            #print(fragments)\n",
    "            data.append({\n",
    "                'refset' : fragments[1],\n",
    "                'seed_size' : 5,\n",
    "                'depth' : eval(fragments[3]),\n",
    "                'ndcg' : eval(fragments[7]),\n",
    "                'auc' : eval(fragments[9]),\n",
    "                'kind' : tag\n",
    "            })\n",
    "        return data"
   ]
  },
  {
   "cell_type": "code",
   "execution_count": 4,
   "metadata": {
    "collapsed": true
   },
   "outputs": [],
   "source": [
    "def compile_ext_mts(path, tag):\n",
    "    with open(path, 'r') as f:\n",
    "        data = []\n",
    "        for line in f.readlines():\n",
    "            line = line.strip().replace('+','-')\n",
    "            fragments = list(filter(None,re.split(r'[=\\s]', line)))\n",
    "            #print(fragments)\n",
    "            data.append({\n",
    "                'refset' : fragments[1],\n",
    "                'seed_size' : eval(fragments[5]),\n",
    "                'depth' : eval(fragments[3]),\n",
    "                'ndcg' : eval(fragments[9]),\n",
    "                'auc' : eval(fragments[11]),\n",
    "                'kind' : tag\n",
    "            })\n",
    "        return data"
   ]
  },
  {
   "cell_type": "code",
   "execution_count": 5,
   "metadata": {},
   "outputs": [
    {
     "output_type": "execute_result",
     "data": {
      "text/plain": [
       "               ndcg       auc\n",
       "seed_size                    \n",
       "1          0.409350  0.508363\n",
       "5          0.473304  0.547292"
      ],
      "text/html": "<div>\n<style scoped>\n    .dataframe tbody tr th:only-of-type {\n        vertical-align: middle;\n    }\n\n    .dataframe tbody tr th {\n        vertical-align: top;\n    }\n\n    .dataframe thead th {\n        text-align: right;\n    }\n</style>\n<table border=\"1\" class=\"dataframe\">\n  <thead>\n    <tr style=\"text-align: right;\">\n      <th></th>\n      <th>ndcg</th>\n      <th>auc</th>\n    </tr>\n    <tr>\n      <th>seed_size</th>\n      <th></th>\n      <th></th>\n    </tr>\n  </thead>\n  <tbody>\n    <tr>\n      <th>1</th>\n      <td>0.409350</td>\n      <td>0.508363</td>\n    </tr>\n    <tr>\n      <th>5</th>\n      <td>0.473304</td>\n      <td>0.547292</td>\n    </tr>\n  </tbody>\n</table>\n</div>"
     },
     "metadata": {},
     "execution_count": 5
    }
   ],
   "source": [
    "pd.DataFrame(compile('nhs_module_random.txt', 'NHS_L_R')).groupby('seed_size').mean()\n",
    "# Change mean to std for standard error, e.g., pd.DataFrame(compile('nhs_module_random.txt', 'NHS_L_R')).groupby('seed_size').std()"
   ]
  },
  {
   "cell_type": "code",
   "execution_count": 10,
   "metadata": {},
   "outputs": [
    {
     "output_type": "execute_result",
     "data": {
      "text/plain": [
       "       seed_size      ndcg       auc\n",
       "depth                               \n",
       "1              5  0.491388  0.543075\n",
       "2              5  0.479942  0.543142"
      ],
      "text/html": "<div>\n<style scoped>\n    .dataframe tbody tr th:only-of-type {\n        vertical-align: middle;\n    }\n\n    .dataframe tbody tr th {\n        vertical-align: top;\n    }\n\n    .dataframe thead th {\n        text-align: right;\n    }\n</style>\n<table border=\"1\" class=\"dataframe\">\n  <thead>\n    <tr style=\"text-align: right;\">\n      <th></th>\n      <th>seed_size</th>\n      <th>ndcg</th>\n      <th>auc</th>\n    </tr>\n    <tr>\n      <th>depth</th>\n      <th></th>\n      <th></th>\n      <th></th>\n    </tr>\n  </thead>\n  <tbody>\n    <tr>\n      <th>1</th>\n      <td>5</td>\n      <td>0.491388</td>\n      <td>0.543075</td>\n    </tr>\n    <tr>\n      <th>2</th>\n      <td>5</td>\n      <td>0.479942</td>\n      <td>0.543142</td>\n    </tr>\n  </tbody>\n</table>\n</div>"
     },
     "metadata": {},
     "execution_count": 10
    }
   ],
   "source": [
    "pd.DataFrame(compile_ext('nhs_sigext_random.txt', 'NHS_E_R')).groupby('depth').mean()"
   ]
  },
  {
   "cell_type": "code",
   "execution_count": 11,
   "metadata": {},
   "outputs": [
    {
     "output_type": "execute_result",
     "data": {
      "text/plain": [
       "               ndcg       auc\n",
       "seed_size                    \n",
       "5          0.677162  0.915534"
      ],
      "text/html": "<div>\n<style scoped>\n    .dataframe tbody tr th:only-of-type {\n        vertical-align: middle;\n    }\n\n    .dataframe tbody tr th {\n        vertical-align: top;\n    }\n\n    .dataframe thead th {\n        text-align: right;\n    }\n</style>\n<table border=\"1\" class=\"dataframe\">\n  <thead>\n    <tr style=\"text-align: right;\">\n      <th></th>\n      <th>ndcg</th>\n      <th>auc</th>\n    </tr>\n    <tr>\n      <th>seed_size</th>\n      <th></th>\n      <th></th>\n    </tr>\n  </thead>\n  <tbody>\n    <tr>\n      <th>5</th>\n      <td>0.677162</td>\n      <td>0.915534</td>\n    </tr>\n  </tbody>\n</table>\n</div>"
     },
     "metadata": {},
     "execution_count": 11
    }
   ],
   "source": [
    "pd.DataFrame(compile('nhs_mtaocc_random.txt', 'NHS_M_R')).groupby('seed_size').mean()"
   ]
  },
  {
   "cell_type": "code",
   "execution_count": 12,
   "metadata": {},
   "outputs": [
    {
     "output_type": "execute_result",
     "data": {
      "text/plain": [
       "               ndcg       auc\n",
       "seed_size                    \n",
       "1          0.685743  0.921866\n",
       "5          0.779312  0.964857"
      ],
      "text/html": "<div>\n<style scoped>\n    .dataframe tbody tr th:only-of-type {\n        vertical-align: middle;\n    }\n\n    .dataframe tbody tr th {\n        vertical-align: top;\n    }\n\n    .dataframe thead th {\n        text-align: right;\n    }\n</style>\n<table border=\"1\" class=\"dataframe\">\n  <thead>\n    <tr style=\"text-align: right;\">\n      <th></th>\n      <th>ndcg</th>\n      <th>auc</th>\n    </tr>\n    <tr>\n      <th>seed_size</th>\n      <th></th>\n      <th></th>\n    </tr>\n  </thead>\n  <tbody>\n    <tr>\n      <th>1</th>\n      <td>0.685743</td>\n      <td>0.921866</td>\n    </tr>\n    <tr>\n      <th>5</th>\n      <td>0.779312</td>\n      <td>0.964857</td>\n    </tr>\n  </tbody>\n</table>\n</div>"
     },
     "metadata": {},
     "execution_count": 12
    }
   ],
   "source": [
    "pd.DataFrame(compile('nhs_nnrank_random.txt', 'NHS_N_R')).groupby('seed_size').mean()"
   ]
  },
  {
   "cell_type": "code",
   "execution_count": 13,
   "metadata": {},
   "outputs": [
    {
     "output_type": "execute_result",
     "data": {
      "text/plain": [
       "               ndcg       auc\n",
       "seed_size                    \n",
       "1          0.694950  0.933290\n",
       "5          0.787572  0.969808"
      ],
      "text/html": "<div>\n<style scoped>\n    .dataframe tbody tr th:only-of-type {\n        vertical-align: middle;\n    }\n\n    .dataframe tbody tr th {\n        vertical-align: top;\n    }\n\n    .dataframe thead th {\n        text-align: right;\n    }\n</style>\n<table border=\"1\" class=\"dataframe\">\n  <thead>\n    <tr style=\"text-align: right;\">\n      <th></th>\n      <th>ndcg</th>\n      <th>auc</th>\n    </tr>\n    <tr>\n      <th>seed_size</th>\n      <th></th>\n      <th></th>\n    </tr>\n  </thead>\n  <tbody>\n    <tr>\n      <th>1</th>\n      <td>0.694950</td>\n      <td>0.933290</td>\n    </tr>\n    <tr>\n      <th>5</th>\n      <td>0.787572</td>\n      <td>0.969808</td>\n    </tr>\n  </tbody>\n</table>\n</div>"
     },
     "metadata": {},
     "execution_count": 13
    }
   ],
   "source": [
    "pd.DataFrame(compile('nhs_nnrank_random_ft.txt', 'NHS_N_RF')).groupby('seed_size').mean()"
   ]
  },
  {
   "cell_type": "code",
   "execution_count": 14,
   "metadata": {},
   "outputs": [
    {
     "output_type": "execute_result",
     "data": {
      "text/plain": [
       "               ndcg       auc\n",
       "seed_size                    \n",
       "1          0.491017  0.506417\n",
       "5          0.518283  0.545813"
      ],
      "text/html": "<div>\n<style scoped>\n    .dataframe tbody tr th:only-of-type {\n        vertical-align: middle;\n    }\n\n    .dataframe tbody tr th {\n        vertical-align: top;\n    }\n\n    .dataframe thead th {\n        text-align: right;\n    }\n</style>\n<table border=\"1\" class=\"dataframe\">\n  <thead>\n    <tr style=\"text-align: right;\">\n      <th></th>\n      <th>ndcg</th>\n      <th>auc</th>\n    </tr>\n    <tr>\n      <th>seed_size</th>\n      <th></th>\n      <th></th>\n    </tr>\n  </thead>\n  <tbody>\n    <tr>\n      <th>1</th>\n      <td>0.491017</td>\n      <td>0.506417</td>\n    </tr>\n    <tr>\n      <th>5</th>\n      <td>0.518283</td>\n      <td>0.545813</td>\n    </tr>\n  </tbody>\n</table>\n</div>"
     },
     "metadata": {},
     "execution_count": 14
    }
   ],
   "source": [
    "pd.DataFrame(compile('nrc_module_random.txt', 'NRC_L_R')).groupby('seed_size').mean().iloc[[0,4],:]"
   ]
  },
  {
   "cell_type": "code",
   "execution_count": 15,
   "metadata": {},
   "outputs": [
    {
     "output_type": "execute_result",
     "data": {
      "text/plain": [
       "       seed_size      ndcg       auc\n",
       "depth                               \n",
       "1              5  0.556770  0.535983\n",
       "2              5  0.543097  0.537810"
      ],
      "text/html": "<div>\n<style scoped>\n    .dataframe tbody tr th:only-of-type {\n        vertical-align: middle;\n    }\n\n    .dataframe tbody tr th {\n        vertical-align: top;\n    }\n\n    .dataframe thead th {\n        text-align: right;\n    }\n</style>\n<table border=\"1\" class=\"dataframe\">\n  <thead>\n    <tr style=\"text-align: right;\">\n      <th></th>\n      <th>seed_size</th>\n      <th>ndcg</th>\n      <th>auc</th>\n    </tr>\n    <tr>\n      <th>depth</th>\n      <th></th>\n      <th></th>\n      <th></th>\n    </tr>\n  </thead>\n  <tbody>\n    <tr>\n      <th>1</th>\n      <td>5</td>\n      <td>0.556770</td>\n      <td>0.535983</td>\n    </tr>\n    <tr>\n      <th>2</th>\n      <td>5</td>\n      <td>0.543097</td>\n      <td>0.537810</td>\n    </tr>\n  </tbody>\n</table>\n</div>"
     },
     "metadata": {},
     "execution_count": 15
    }
   ],
   "source": [
    "pd.DataFrame(compile_ext('nrc_sigext_random.txt', 'NRC_E_R')).groupby('depth').mean()"
   ]
  },
  {
   "cell_type": "code",
   "execution_count": 17,
   "metadata": {},
   "outputs": [
    {
     "output_type": "execute_result",
     "data": {
      "text/plain": [
       "               ndcg       auc\n",
       "seed_size                    \n",
       "5          0.716513  0.888057"
      ],
      "text/html": "<div>\n<style scoped>\n    .dataframe tbody tr th:only-of-type {\n        vertical-align: middle;\n    }\n\n    .dataframe tbody tr th {\n        vertical-align: top;\n    }\n\n    .dataframe thead th {\n        text-align: right;\n    }\n</style>\n<table border=\"1\" class=\"dataframe\">\n  <thead>\n    <tr style=\"text-align: right;\">\n      <th></th>\n      <th>ndcg</th>\n      <th>auc</th>\n    </tr>\n    <tr>\n      <th>seed_size</th>\n      <th></th>\n      <th></th>\n    </tr>\n  </thead>\n  <tbody>\n    <tr>\n      <th>5</th>\n      <td>0.716513</td>\n      <td>0.888057</td>\n    </tr>\n  </tbody>\n</table>\n</div>"
     },
     "metadata": {},
     "execution_count": 17
    }
   ],
   "source": [
    "pd.DataFrame(compile('nrc_mtaocc_random.txt', 'NRC_M_R')).groupby('seed_size').mean()"
   ]
  },
  {
   "cell_type": "code",
   "execution_count": 18,
   "metadata": {},
   "outputs": [
    {
     "output_type": "execute_result",
     "data": {
      "text/plain": [
       "               ndcg       auc\n",
       "seed_size                    \n",
       "1          0.713177  0.896560\n",
       "5          0.772500  0.942897"
      ],
      "text/html": "<div>\n<style scoped>\n    .dataframe tbody tr th:only-of-type {\n        vertical-align: middle;\n    }\n\n    .dataframe tbody tr th {\n        vertical-align: top;\n    }\n\n    .dataframe thead th {\n        text-align: right;\n    }\n</style>\n<table border=\"1\" class=\"dataframe\">\n  <thead>\n    <tr style=\"text-align: right;\">\n      <th></th>\n      <th>ndcg</th>\n      <th>auc</th>\n    </tr>\n    <tr>\n      <th>seed_size</th>\n      <th></th>\n      <th></th>\n    </tr>\n  </thead>\n  <tbody>\n    <tr>\n      <th>1</th>\n      <td>0.713177</td>\n      <td>0.896560</td>\n    </tr>\n    <tr>\n      <th>5</th>\n      <td>0.772500</td>\n      <td>0.942897</td>\n    </tr>\n  </tbody>\n</table>\n</div>"
     },
     "metadata": {},
     "execution_count": 18
    }
   ],
   "source": [
    "pd.DataFrame(compile('nrc_nnrank_random.txt', 'NRC_N_R')).groupby('seed_size').mean().iloc[[0,4],:]"
   ]
  },
  {
   "cell_type": "code",
   "execution_count": 19,
   "metadata": {},
   "outputs": [
    {
     "output_type": "execute_result",
     "data": {
      "text/plain": [
       "               ndcg       auc\n",
       "seed_size                    \n",
       "1          0.735670  0.904003\n",
       "5          0.801877  0.947907"
      ],
      "text/html": "<div>\n<style scoped>\n    .dataframe tbody tr th:only-of-type {\n        vertical-align: middle;\n    }\n\n    .dataframe tbody tr th {\n        vertical-align: top;\n    }\n\n    .dataframe thead th {\n        text-align: right;\n    }\n</style>\n<table border=\"1\" class=\"dataframe\">\n  <thead>\n    <tr style=\"text-align: right;\">\n      <th></th>\n      <th>ndcg</th>\n      <th>auc</th>\n    </tr>\n    <tr>\n      <th>seed_size</th>\n      <th></th>\n      <th></th>\n    </tr>\n  </thead>\n  <tbody>\n    <tr>\n      <th>1</th>\n      <td>0.735670</td>\n      <td>0.904003</td>\n    </tr>\n    <tr>\n      <th>5</th>\n      <td>0.801877</td>\n      <td>0.947907</td>\n    </tr>\n  </tbody>\n</table>\n</div>"
     },
     "metadata": {},
     "execution_count": 19
    }
   ],
   "source": [
    "pd.DataFrame(compile('nrc_nnrank_random_ft.txt', 'NRC_N_RF')).groupby('seed_size').mean().iloc[[0,4],:]"
   ]
  },
  {
   "cell_type": "code",
   "execution_count": 20,
   "metadata": {},
   "outputs": [
    {
     "output_type": "execute_result",
     "data": {
      "text/plain": [
       "               ndcg       auc\n",
       "seed_size                    \n",
       "1          0.488487  0.508187\n",
       "2          0.501673  0.519083\n",
       "3          0.506470  0.532077\n",
       "4          0.515527  0.541190\n",
       "5          0.522472  0.546800"
      ],
      "text/html": "<div>\n<style scoped>\n    .dataframe tbody tr th:only-of-type {\n        vertical-align: middle;\n    }\n\n    .dataframe tbody tr th {\n        vertical-align: top;\n    }\n\n    .dataframe thead th {\n        text-align: right;\n    }\n</style>\n<table border=\"1\" class=\"dataframe\">\n  <thead>\n    <tr style=\"text-align: right;\">\n      <th></th>\n      <th>ndcg</th>\n      <th>auc</th>\n    </tr>\n    <tr>\n      <th>seed_size</th>\n      <th></th>\n      <th></th>\n    </tr>\n  </thead>\n  <tbody>\n    <tr>\n      <th>1</th>\n      <td>0.488487</td>\n      <td>0.508187</td>\n    </tr>\n    <tr>\n      <th>2</th>\n      <td>0.501673</td>\n      <td>0.519083</td>\n    </tr>\n    <tr>\n      <th>3</th>\n      <td>0.506470</td>\n      <td>0.532077</td>\n    </tr>\n    <tr>\n      <th>4</th>\n      <td>0.515527</td>\n      <td>0.541190</td>\n    </tr>\n    <tr>\n      <th>5</th>\n      <td>0.522472</td>\n      <td>0.546800</td>\n    </tr>\n  </tbody>\n</table>\n</div>"
     },
     "metadata": {},
     "execution_count": 20
    }
   ],
   "source": [
    "pd.DataFrame(compile('nrc_module_select.txt', 'NRC_L_S')).groupby('seed_size').mean()"
   ]
  },
  {
   "cell_type": "code",
   "execution_count": 21,
   "metadata": {},
   "outputs": [
    {
     "output_type": "execute_result",
     "data": {
      "text/plain": [
       "                     ndcg       auc\n",
       "depth seed_size                    \n",
       "1     1          0.499670  0.508033\n",
       "      2          0.519180  0.515193\n",
       "      3          0.534183  0.521433\n",
       "      4          0.549493  0.528230\n",
       "      5          0.557563  0.533387\n",
       "2     1          0.495577  0.508653\n",
       "      2          0.509553  0.516127\n",
       "      3          0.523330  0.522823\n",
       "      4          0.536057  0.529613\n",
       "      5          0.543803  0.534773"
      ],
      "text/html": "<div>\n<style scoped>\n    .dataframe tbody tr th:only-of-type {\n        vertical-align: middle;\n    }\n\n    .dataframe tbody tr th {\n        vertical-align: top;\n    }\n\n    .dataframe thead th {\n        text-align: right;\n    }\n</style>\n<table border=\"1\" class=\"dataframe\">\n  <thead>\n    <tr style=\"text-align: right;\">\n      <th></th>\n      <th></th>\n      <th>ndcg</th>\n      <th>auc</th>\n    </tr>\n    <tr>\n      <th>depth</th>\n      <th>seed_size</th>\n      <th></th>\n      <th></th>\n    </tr>\n  </thead>\n  <tbody>\n    <tr>\n      <th rowspan=\"5\" valign=\"top\">1</th>\n      <th>1</th>\n      <td>0.499670</td>\n      <td>0.508033</td>\n    </tr>\n    <tr>\n      <th>2</th>\n      <td>0.519180</td>\n      <td>0.515193</td>\n    </tr>\n    <tr>\n      <th>3</th>\n      <td>0.534183</td>\n      <td>0.521433</td>\n    </tr>\n    <tr>\n      <th>4</th>\n      <td>0.549493</td>\n      <td>0.528230</td>\n    </tr>\n    <tr>\n      <th>5</th>\n      <td>0.557563</td>\n      <td>0.533387</td>\n    </tr>\n    <tr>\n      <th rowspan=\"5\" valign=\"top\">2</th>\n      <th>1</th>\n      <td>0.495577</td>\n      <td>0.508653</td>\n    </tr>\n    <tr>\n      <th>2</th>\n      <td>0.509553</td>\n      <td>0.516127</td>\n    </tr>\n    <tr>\n      <th>3</th>\n      <td>0.523330</td>\n      <td>0.522823</td>\n    </tr>\n    <tr>\n      <th>4</th>\n      <td>0.536057</td>\n      <td>0.529613</td>\n    </tr>\n    <tr>\n      <th>5</th>\n      <td>0.543803</td>\n      <td>0.534773</td>\n    </tr>\n  </tbody>\n</table>\n</div>"
     },
     "metadata": {},
     "execution_count": 21
    }
   ],
   "source": [
    "pd.DataFrame(compile_ext_mts('nrc_sigext_select.txt', 'NRC_E_S')).groupby(['depth','seed_size' ]).mean()"
   ]
  },
  {
   "cell_type": "code",
   "execution_count": 22,
   "metadata": {
    "scrolled": true
   },
   "outputs": [
    {
     "output_type": "execute_result",
     "data": {
      "text/plain": [
       "               ndcg       auc\n",
       "seed_size                    \n",
       "1          0.712773  0.723983\n",
       "2          0.752448  0.830657\n",
       "3          0.749123  0.868347\n",
       "4          0.751963  0.880723\n",
       "5          0.752403  0.920090"
      ],
      "text/html": "<div>\n<style scoped>\n    .dataframe tbody tr th:only-of-type {\n        vertical-align: middle;\n    }\n\n    .dataframe tbody tr th {\n        vertical-align: top;\n    }\n\n    .dataframe thead th {\n        text-align: right;\n    }\n</style>\n<table border=\"1\" class=\"dataframe\">\n  <thead>\n    <tr style=\"text-align: right;\">\n      <th></th>\n      <th>ndcg</th>\n      <th>auc</th>\n    </tr>\n    <tr>\n      <th>seed_size</th>\n      <th></th>\n      <th></th>\n    </tr>\n  </thead>\n  <tbody>\n    <tr>\n      <th>1</th>\n      <td>0.712773</td>\n      <td>0.723983</td>\n    </tr>\n    <tr>\n      <th>2</th>\n      <td>0.752448</td>\n      <td>0.830657</td>\n    </tr>\n    <tr>\n      <th>3</th>\n      <td>0.749123</td>\n      <td>0.868347</td>\n    </tr>\n    <tr>\n      <th>4</th>\n      <td>0.751963</td>\n      <td>0.880723</td>\n    </tr>\n    <tr>\n      <th>5</th>\n      <td>0.752403</td>\n      <td>0.920090</td>\n    </tr>\n  </tbody>\n</table>\n</div>"
     },
     "metadata": {},
     "execution_count": 22
    }
   ],
   "source": [
    "pd.DataFrame(compile('nrc_mtaocc_select.txt', 'NRC_M_S')).groupby('seed_size').mean()"
   ]
  },
  {
   "cell_type": "code",
   "execution_count": 23,
   "metadata": {},
   "outputs": [
    {
     "output_type": "execute_result",
     "data": {
      "text/plain": [
       "               ndcg       auc\n",
       "seed_size                    \n",
       "1          0.797723  0.940667\n",
       "2          0.823283  0.953793\n",
       "3          0.836723  0.960940\n",
       "4          0.840710  0.964927\n",
       "5          0.848343  0.966400"
      ],
      "text/html": "<div>\n<style scoped>\n    .dataframe tbody tr th:only-of-type {\n        vertical-align: middle;\n    }\n\n    .dataframe tbody tr th {\n        vertical-align: top;\n    }\n\n    .dataframe thead th {\n        text-align: right;\n    }\n</style>\n<table border=\"1\" class=\"dataframe\">\n  <thead>\n    <tr style=\"text-align: right;\">\n      <th></th>\n      <th>ndcg</th>\n      <th>auc</th>\n    </tr>\n    <tr>\n      <th>seed_size</th>\n      <th></th>\n      <th></th>\n    </tr>\n  </thead>\n  <tbody>\n    <tr>\n      <th>1</th>\n      <td>0.797723</td>\n      <td>0.940667</td>\n    </tr>\n    <tr>\n      <th>2</th>\n      <td>0.823283</td>\n      <td>0.953793</td>\n    </tr>\n    <tr>\n      <th>3</th>\n      <td>0.836723</td>\n      <td>0.960940</td>\n    </tr>\n    <tr>\n      <th>4</th>\n      <td>0.840710</td>\n      <td>0.964927</td>\n    </tr>\n    <tr>\n      <th>5</th>\n      <td>0.848343</td>\n      <td>0.966400</td>\n    </tr>\n  </tbody>\n</table>\n</div>"
     },
     "metadata": {},
     "execution_count": 23
    }
   ],
   "source": [
    "pd.DataFrame(compile('nrc_nnrank_select.txt', 'NRC_N_S')).groupby('seed_size').mean()"
   ]
  },
  {
   "cell_type": "code",
   "execution_count": 24,
   "metadata": {},
   "outputs": [
    {
     "output_type": "execute_result",
     "data": {
      "text/plain": [
       "               ndcg       auc\n",
       "seed_size                    \n",
       "1          0.803873  0.946503\n",
       "2          0.829347  0.957797\n",
       "3          0.844130  0.964877\n",
       "4          0.848210  0.968387\n",
       "5          0.855293  0.969650"
      ],
      "text/html": "<div>\n<style scoped>\n    .dataframe tbody tr th:only-of-type {\n        vertical-align: middle;\n    }\n\n    .dataframe tbody tr th {\n        vertical-align: top;\n    }\n\n    .dataframe thead th {\n        text-align: right;\n    }\n</style>\n<table border=\"1\" class=\"dataframe\">\n  <thead>\n    <tr style=\"text-align: right;\">\n      <th></th>\n      <th>ndcg</th>\n      <th>auc</th>\n    </tr>\n    <tr>\n      <th>seed_size</th>\n      <th></th>\n      <th></th>\n    </tr>\n  </thead>\n  <tbody>\n    <tr>\n      <th>1</th>\n      <td>0.803873</td>\n      <td>0.946503</td>\n    </tr>\n    <tr>\n      <th>2</th>\n      <td>0.829347</td>\n      <td>0.957797</td>\n    </tr>\n    <tr>\n      <th>3</th>\n      <td>0.844130</td>\n      <td>0.964877</td>\n    </tr>\n    <tr>\n      <th>4</th>\n      <td>0.848210</td>\n      <td>0.968387</td>\n    </tr>\n    <tr>\n      <th>5</th>\n      <td>0.855293</td>\n      <td>0.969650</td>\n    </tr>\n  </tbody>\n</table>\n</div>"
     },
     "metadata": {},
     "execution_count": 24
    }
   ],
   "source": [
    "pd.DataFrame(compile('nrc_nnrank_select_ft.txt', 'NRC_N_SF')).groupby('seed_size').mean()"
   ]
  }
 ],
 "metadata": {
  "kernelspec": {
   "name": "python362jvsc74a57bd0f742e43c39bc32e0604eb0880f319e91b55a3500e568e20db72302132a55e5f9",
   "display_name": "Python 3.6.2 64-bit ('ml': conda)"
  },
  "language_info": {
   "codemirror_mode": {
    "name": "ipython",
    "version": 3
   },
   "file_extension": ".py",
   "mimetype": "text/x-python",
   "name": "python",
   "nbconvert_exporter": "python",
   "pygments_lexer": "ipython3",
   "version": "3.6.2-final"
  }
 },
 "nbformat": 4,
 "nbformat_minor": 2
}