{
 "cells": [
  {
   "cell_type": "code",
   "execution_count": null,
   "metadata": {
    "collapsed": true
   },
   "outputs": [],
   "source": [
    "from modules.utils import *\n",
    "from sklearn.metrics import ndcg_score, roc_auc_score\n",
    "import re"
   ]
  },
  {
   "cell_type": "code",
   "execution_count": null,
   "metadata": {
    "collapsed": true
   },
   "outputs": [],
   "source": [
    "concept_iri, iri2idx = load_concept_iri()\n",
    "concept_embed = load_concept_embed()"
   ]
  },
  {
   "cell_type": "markdown",
   "metadata": {},
   "source": [
    "## NN_rank random"
   ]
  },
  {
   "cell_type": "code",
   "execution_count": null,
   "metadata": {},
   "outputs": [],
   "source": [
    "with open('result/nrc_nnrank_random.txt', 'w') as f:\n",
    "    for fname in tqdm(os.listdir(refset_iri_dir)):\n",
    "        refset_iri = np.loadtxt(refset_iri_dir + fname, dtype=str)\n",
    "        refset_seed_iri = np.loadtxt(seed_random_iri_dir + fname, dtype=str)\n",
    "        refset_name = get_refset_name(fname)\n",
    "\n",
    "        y_true = np.zeros(shape=(len(concept_iri)))\n",
    "        for item in refset_iri:\n",
    "            y_true[iri2idx[item]] = 1.0\n",
    "\n",
    "        for size in range(5):\n",
    "\n",
    "            idxes = [iri2idx[i] for i in refset_seed_iri[:size+1]]\n",
    "\n",
    "            rank = compute_rank_by_embed(idxes, concept_embed, concept_iri)\n",
    "            y_pred = compute_sim_by_rank(rank, concept_iri)\n",
    "\n",
    "\n",
    "            ndcg = ndcg_score([y_true], [y_pred])\n",
    "            auc = roc_auc_score(y_true, y_pred)\n",
    "\n",
    "            f.write(\"refset={:35s} seed_size={} NNRank score: NDCG={:.4f} AUC={:.4f}\\n\".format(refset_name, size+1, ndcg, auc))"
   ]
  },
  {
   "cell_type": "markdown",
   "metadata": {
    "collapsed": true
   },
   "source": [
    "## NN_rank select"
   ]
  },
  {
   "cell_type": "code",
   "execution_count": null,
   "metadata": {},
   "outputs": [],
   "source": [
    "refset_iri_dir = 'data/SnomedCT/nrc_refset_iri/'\n",
    "seed_select_iri_dir = 'data/SnomedCT/nrc_seed_select_iri/'\n",
    "\n",
    "with open('result/nrc_nnrank_select.txt', 'w') as f:\n",
    "    for fname in tqdm(os.listdir(refset_iri_dir)):\n",
    "        refset_iri = np.loadtxt(refset_iri_dir + fname, dtype=str)\n",
    "        refset_seed_iri = np.loadtxt(seed_select_iri_dir + fname, dtype=str)\n",
    "        refset_name = get_refset_name(fname)\n",
    "\n",
    "        y_true = np.zeros(shape=(len(concept_iri)))\n",
    "        for item in refset_iri:\n",
    "            y_true[iri2idx[item]] = 1.0\n",
    "\n",
    "        for size in range(5):\n",
    "\n",
    "            idxes = [iri2idx[i] for i in refset_seed_iri[:size+1]]\n",
    "\n",
    "            rank = compute_rank_by_embed(idxes, concept_embed, concept_iri)\n",
    "            y_pred = compute_sim_by_rank(rank, concept_iri)\n",
    "\n",
    "\n",
    "            ndcg = ndcg_score([y_true], [y_pred])\n",
    "            auc = roc_auc_score(y_true, y_pred)\n",
    "            f.write(\"refset={:35s} seed_size={} NNRank score: NDCG={:.4f} AUC={:.4f}\\n\".format(refset_name, size+1, ndcg, auc))\n",
    "            f.flush()"
   ]
  },
  {
   "cell_type": "markdown",
   "metadata": {},
   "source": [
    "## Module random"
   ]
  },
  {
   "cell_type": "code",
   "execution_count": null,
   "metadata": {},
   "outputs": [],
   "source": [
    "refset_iri_dir = 'data/SnomedCT/nhs_refset_iri/'\n",
    "module_iri_path = 'data/SnomedCT/nhs_output_random_module_iri/'\n",
    "\n",
    "with open('result/nhs_module_random.txt', 'w') as f:\n",
    "    for fname in tqdm(os.listdir(refset_iri_dir)):\n",
    "        refset_iri = np.loadtxt(refset_iri_dir + fname, dtype=str)\n",
    "        refset_name = re.split('-\\d*\\.txt', fname)[0]#get_refset_name(fname)\n",
    "\n",
    "        y_true = np.zeros(shape=(len(concept_iri)))\n",
    "        for item in refset_iri:\n",
    "            y_true[iri2idx[item]] = 1.0\n",
    "\n",
    "        for fname in os.listdir(module_iri_path):\n",
    "            size = re.findall('#(.*?).t', fname)[0]\n",
    "            if refset_name in fname:\n",
    "                y_pred = load_selection_result(module_iri_path + fname, iri2idx, len(concept_iri))\n",
    "                ndcg = ndcg_score([y_true], [y_pred])\n",
    "                auc = roc_auc_score(y_true, y_pred)\n",
    "\n",
    "                f.write(\"refset={:35s} seed_size={} module score: NDCG={:.4f} AUC={:.4f}\\n\".format(refset_name, size, ndcg, auc))\n",
    "                f.flush()"
   ]
  },
  {
   "cell_type": "markdown",
   "metadata": {},
   "source": [
    "## Module select"
   ]
  },
  {
   "cell_type": "code",
   "execution_count": null,
   "metadata": {},
   "outputs": [],
   "source": [
    "module_iri_path = 'data/SnomedCT/output_select_module_iri/'\n",
    "\n",
    "with open('result/module_select.txt', 'w') as f:\n",
    "    for fname in tqdm(os.listdir(refset_iri_dir))):\n",
    "        refset_iri = np.loadtxt(refset_iri_dir + fname, dtype=str)\n",
    "        refset_name = get_refset_name(fname)\n",
    "\n",
    "        y_true = np.zeros(shape=(len(concept_iri)))\n",
    "        for item in refset_iri:\n",
    "            y_true[iri2idx[item]] = 1.0\n",
    "\n",
    "        for fname in os.listdir(module_iri_path):\n",
    "            size = re.findall('1#(.*?).t', fname)[0]\n",
    "            if refset_name in fname:\n",
    "                y_pred = load_selection_result(module_iri_path + fname, iri2idx, len(concept_iri))\n",
    "                ndcg = ndcg_score([y_true], [y_pred])\n",
    "                auc = roc_auc_score(y_true, y_pred)\n",
    "\n",
    "                f.write(\"refset={:35s} seed_size={} module score: NDCG={:.4f} AUC={:.4f}\\n\".format(refset_name, size, ndcg, auc))"
   ]
  },
  {
   "cell_type": "markdown",
   "metadata": {
    "collapsed": true
   },
   "source": [
    "## Sig extension select"
   ]
  },
  {
   "cell_type": "code",
   "execution_count": null,
   "metadata": {},
   "outputs": [],
   "source": [
    "refset_iri_dir = 'data/SnomedCT/nrc_refset_iri/'\n",
    "sigext_iri_path_fmt = 'nrc_seed_select_iri_extended'\n",
    "dir_path = 'data/SnomedCT/'\n",
    "\n",
    "with open('result/nrc_sigext_select.txt', 'w') as f:\n",
    "    for dirname in os.listdir(dir_path):\n",
    "        if sigext_iri_path_fmt in dirname:\n",
    "            K = dirname.split('_')[-1]\n",
    "            depth = dirname.split('_')[-2]\n",
    "            \n",
    "            result_dir = dir_path + dirname + '/'\n",
    "            \n",
    "            for fname in os.listdir(refset_iri_dir):\n",
    "\n",
    "                refset_iri = np.loadtxt(refset_iri_dir + fname, dtype=str)\n",
    "                refset_name = re.split('-\\d*\\.txt', fname)[0]#get_refset_name(fname)\n",
    "\n",
    "                y_true = np.zeros(shape=(len(concept_iri)))\n",
    "                for item in refset_iri:\n",
    "                    y_true[iri2idx[item]] = 1.0\n",
    "\n",
    "                y_pred = load_selection_result(result_dir + fname, iri2idx, len(concept_iri))\n",
    "                ndcg = ndcg_score([y_true], [y_pred])\n",
    "                auc = roc_auc_score(y_true, y_pred)\n",
    "\n",
    "                f.write(\"refset={:35s} __depth__={} seed_size={} sigext score: NDCG={:.4f} AUC={:.4f}\\n\".format(refset_name, depth, K, ndcg, auc))"
   ]
  }
 ],
 "metadata": {
  "kernelspec": {
   "name": "python362jvsc74a57bd0f742e43c39bc32e0604eb0880f319e91b55a3500e568e20db72302132a55e5f9",
   "display_name": "Python 3.6.2 64-bit ('ml': conda)"
  },
  "language_info": {
   "codemirror_mode": {
    "name": "ipython",
    "version": 3
   },
   "file_extension": ".py",
   "mimetype": "text/x-python",
   "name": "python",
   "nbconvert_exporter": "python",
   "pygments_lexer": "ipython3",
   "version": "3.6.2-final"
  }
 },
 "nbformat": 4,
 "nbformat_minor": 2
}