{
 "cells": [
  {
   "cell_type": "code",
   "execution_count": 7,
   "metadata": {
    "collapsed": true
   },
   "outputs": [],
   "source": [
    "from modules.utils import *"
   ]
  },
  {
   "cell_type": "code",
   "execution_count": 2,
   "metadata": {
    "collapsed": true
   },
   "outputs": [],
   "source": [
    "concept_iri, iri2idx = load_concept_iri()\n",
    "concept_label = load_concept_label()\n",
    "concept_embed = load_concept_embed()"
   ]
  },
  {
   "cell_type": "code",
   "execution_count": 6,
   "metadata": {},
   "outputs": [
    {
     "name": "stderr",
     "output_type": "stream",
     "text": [
      "100%|██████████████████████████████████████████████████████████████████████████████████| 30/30 [00:30<00:00,  1.45s/it]\n"
     ]
    }
   ],
   "source": [
    "for fname in tqdm(os.listdir(refset_iri_dir)):\n",
    "    iris = np.loadtxt(refset_iri_dir + fname, dtype=str)\n",
    "\n",
    "    iri_list = []\n",
    "    embed_list = []\n",
    "    label_list = []\n",
    "    for iri in iris:\n",
    "\n",
    "        iri_list.append(iri)\n",
    "        embed_list.append(concept_embed[iri2idx[iri]])\n",
    "        label_list.append(concept_label[iri2idx[iri]])\n",
    "    \n",
    "    np.savetxt(refset_iri_dir + fname, iri_list, fmt=\"%s\")\n",
    "    np.savetxt(refset_embed_dir + fname, embed_list)\n",
    "    np.savetxt(refset_label_dir + fname, label_list, fmt='%s')"
   ]
  }
 ],
 "metadata": {
  "kernelspec": {
   "display_name": "Python 3",
   "language": "python",
   "name": "python3"
  },
  "language_info": {
   "codemirror_mode": {
    "name": "ipython",
    "version": 3
   },
   "file_extension": ".py",
   "mimetype": "text/x-python",
   "name": "python",
   "nbconvert_exporter": "python",
   "pygments_lexer": "ipython3",
   "version": "3.6.2"
  }
 },
 "nbformat": 4,
 "nbformat_minor": 2
}