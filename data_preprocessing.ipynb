{
 "cells": [
  {
   "cell_type": "code",
   "execution_count": 1,
   "metadata": {
    "collapsed": true
   },
   "outputs": [],
   "source": [
    "from modules.utils import *"
   ]
  },
  {
   "cell_type": "code",
   "execution_count": 2,
   "metadata": {
    "collapsed": true
   },
   "outputs": [],
   "source": [
    "concept_iri, iri2idx = load_concept_iri()\n",
    "concept_label = load_concept_label()\n",
    "concept_embed = load_concept_embed()"
   ]
  },
  {
   "cell_type": "code",
   "execution_count": 3,
   "metadata": {},
   "outputs": [
    {
     "output_type": "stream",
     "name": "stderr",
     "text": [
      "100%|██████████| 30/30 [00:31<00:00,  1.64s/it]\n"
     ]
    }
   ],
   "source": [
    "for fname in tqdm(os.listdir(refset_iri_dir)):\n",
    "    iris = np.loadtxt(refset_iri_dir + fname, dtype=str)\n",
    "\n",
    "    iri_list = []\n",
    "    embed_list = []\n",
    "    label_list = []\n",
    "    for iri in iris:\n",
    "\n",
    "        iri_list.append(iri)\n",
    "        embed_list.append(concept_embed[iri2idx[iri]])\n",
    "        label_list.append(concept_label[iri2idx[iri]])\n",
    "    \n",
    "    np.savetxt(refset_iri_dir + fname, iri_list, fmt=\"%s\")\n",
    "    np.savetxt(refset_embed_dir + fname, embed_list)\n",
    "    np.savetxt(refset_label_dir + fname, label_list, fmt='%s')"
   ]
  },
  {
   "cell_type": "code",
   "execution_count": null,
   "metadata": {},
   "outputs": [],
   "source": []
  }
 ],
 "metadata": {
  "kernelspec": {
   "name": "python373jvsc74a57bd0ee31e329b9c0d702f8d712b078895dcee9dde01be2376fbbcc710ef5291af350",
   "display_name": "Python 3.7.3 64-bit ('base': conda)"
  },
  "language_info": {
   "codemirror_mode": {
    "name": "ipython",
    "version": 3
   },
   "file_extension": ".py",
   "mimetype": "text/x-python",
   "name": "python",
   "nbconvert_exporter": "python",
   "pygments_lexer": "ipython3",
   "version": "3.7.3"
  }
 },
 "nbformat": 4,
 "nbformat_minor": 2
}